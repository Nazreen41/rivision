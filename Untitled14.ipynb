{
 "cells": [
  {
   "cell_type": "code",
   "execution_count": 2,
   "id": "afbf78c7",
   "metadata": {},
   "outputs": [
    {
     "name": "stdout",
     "output_type": "stream",
     "text": [
      "nazreen\n"
     ]
    }
   ],
   "source": [
    "print('''nazreen''')"
   ]
  },
  {
   "cell_type": "code",
   "execution_count": 3,
   "id": "abe7f48a",
   "metadata": {},
   "outputs": [],
   "source": [
    "name=\"nazreen\""
   ]
  },
  {
   "cell_type": "code",
   "execution_count": 4,
   "id": "d0baf59a",
   "metadata": {},
   "outputs": [
    {
     "name": "stdout",
     "output_type": "stream",
     "text": [
      "Nazreen\n"
     ]
    }
   ],
   "source": [
    "print(name.title())"
   ]
  },
  {
   "cell_type": "code",
   "execution_count": 5,
   "id": "bd5fc831",
   "metadata": {},
   "outputs": [
    {
     "name": "stdout",
     "output_type": "stream",
     "text": [
      "NAZREEN\n"
     ]
    }
   ],
   "source": [
    "print(name.upper())"
   ]
  },
  {
   "cell_type": "code",
   "execution_count": 6,
   "id": "4d4dc591",
   "metadata": {},
   "outputs": [
    {
     "name": "stdout",
     "output_type": "stream",
     "text": [
      "nazreen\n"
     ]
    }
   ],
   "source": [
    "print(name.lower())"
   ]
  },
  {
   "cell_type": "code",
   "execution_count": 7,
   "id": "de41881b",
   "metadata": {},
   "outputs": [],
   "source": [
    "student=\"naaz\""
   ]
  },
  {
   "cell_type": "code",
   "execution_count": 8,
   "id": "cba8a673",
   "metadata": {},
   "outputs": [
    {
     "name": "stdout",
     "output_type": "stream",
     "text": [
      "NAAZ\n"
     ]
    }
   ],
   "source": [
    "print(student.upper())"
   ]
  },
  {
   "cell_type": "code",
   "execution_count": 9,
   "id": "8726bd11",
   "metadata": {},
   "outputs": [],
   "source": [
    "first_name=\"nazreen\""
   ]
  },
  {
   "cell_type": "code",
   "execution_count": 10,
   "id": "a215de54",
   "metadata": {},
   "outputs": [],
   "source": [
    "last_name=\"mohammed\""
   ]
  },
  {
   "cell_type": "code",
   "execution_count": 11,
   "id": "276a1ba1",
   "metadata": {},
   "outputs": [],
   "source": [
    "full_name=f\"{first_name} {last_name}\""
   ]
  },
  {
   "cell_type": "code",
   "execution_count": 12,
   "id": "0c13dd5c",
   "metadata": {},
   "outputs": [
    {
     "name": "stdout",
     "output_type": "stream",
     "text": [
      "nazreen mohammed\n"
     ]
    }
   ],
   "source": [
    "print(full_name)"
   ]
  },
  {
   "cell_type": "code",
   "execution_count": 14,
   "id": "54f14b0d",
   "metadata": {},
   "outputs": [],
   "source": [
    "full_name=f\" my full name is {first_name} {last_name}\""
   ]
  },
  {
   "cell_type": "code",
   "execution_count": 15,
   "id": "3f955ab7",
   "metadata": {},
   "outputs": [
    {
     "name": "stdout",
     "output_type": "stream",
     "text": [
      " my full name is nazreen mohammed\n"
     ]
    }
   ],
   "source": [
    "print(full_name)"
   ]
  },
  {
   "cell_type": "code",
   "execution_count": 16,
   "id": "081e2ffc",
   "metadata": {},
   "outputs": [],
   "source": [
    "a=\"hai how are you\""
   ]
  },
  {
   "cell_type": "code",
   "execution_count": 17,
   "id": "7761914c",
   "metadata": {},
   "outputs": [],
   "source": [
    "b=\"where are you from\" "
   ]
  },
  {
   "cell_type": "code",
   "execution_count": 20,
   "id": "b655cb72",
   "metadata": {},
   "outputs": [],
   "source": [
    "c=f\" myself nazz : {a.title()} {b.title()}\""
   ]
  },
  {
   "cell_type": "code",
   "execution_count": 21,
   "id": "ff783197",
   "metadata": {},
   "outputs": [
    {
     "name": "stdout",
     "output_type": "stream",
     "text": [
      " myself nazz : Hai How Are You Where Are You From\n"
     ]
    }
   ],
   "source": [
    "print(c)"
   ]
  },
  {
   "cell_type": "code",
   "execution_count": 22,
   "id": "c64b3344",
   "metadata": {},
   "outputs": [
    {
     "name": "stdout",
     "output_type": "stream",
     "text": [
      "languages:\n",
      "python\n",
      "java\n",
      "sql\n",
      "html\n",
      "datasceice\n"
     ]
    }
   ],
   "source": [
    "print(\"languages:\\npython\\njava\\nsql\\nhtml\\ndatasceice\")"
   ]
  },
  {
   "cell_type": "code",
   "execution_count": 23,
   "id": "8ec18812",
   "metadata": {},
   "outputs": [
    {
     "name": "stdout",
     "output_type": "stream",
     "text": [
      "languages:\n",
      "\tpython\n",
      "\tjava\n",
      "\tsql\n",
      "\thtml\n",
      "\tdatasceice\n"
     ]
    }
   ],
   "source": [
    "print(\"languages:\\n\\tpython\\n\\tjava\\n\\tsql\\n\\thtml\\n\\tdatasceice\")"
   ]
  },
  {
   "cell_type": "code",
   "execution_count": 24,
   "id": "93f6f5f3",
   "metadata": {},
   "outputs": [
    {
     "name": "stdout",
     "output_type": "stream",
     "text": [
      "my friends:\n",
      "\tchotu\n",
      "\tchandhu\n",
      "\tsweety\n",
      "\tshravan\n",
      "\tpreetham\n"
     ]
    }
   ],
   "source": [
    "print(\"my friends:\\n\\tchotu\\n\\tchandhu\\n\\tsweety\\n\\tshravan\\n\\tpreetham\")"
   ]
  },
  {
   "cell_type": "code",
   "execution_count": 25,
   "id": "235272e8",
   "metadata": {},
   "outputs": [],
   "source": [
    "fav_flower=\"lilly\""
   ]
  },
  {
   "cell_type": "code",
   "execution_count": 26,
   "id": "e17890cc",
   "metadata": {},
   "outputs": [
    {
     "name": "stdout",
     "output_type": "stream",
     "text": [
      "lilly\n"
     ]
    }
   ],
   "source": [
    "print(fav_flower)"
   ]
  },
  {
   "cell_type": "code",
   "execution_count": 27,
   "id": "3f5d198d",
   "metadata": {},
   "outputs": [],
   "source": [
    "fav_lang='    python'"
   ]
  },
  {
   "cell_type": "code",
   "execution_count": 28,
   "id": "591f4aa4",
   "metadata": {},
   "outputs": [
    {
     "name": "stdout",
     "output_type": "stream",
     "text": [
      "    python\n"
     ]
    }
   ],
   "source": [
    "print(fav_lang)"
   ]
  },
  {
   "cell_type": "code",
   "execution_count": 29,
   "id": "e1611e89",
   "metadata": {},
   "outputs": [
    {
     "name": "stdout",
     "output_type": "stream",
     "text": [
      "python\n"
     ]
    }
   ],
   "source": [
    "print(fav_lang.lstrip())"
   ]
  },
  {
   "cell_type": "code",
   "execution_count": 30,
   "id": "15550b92",
   "metadata": {},
   "outputs": [
    {
     "name": "stdout",
     "output_type": "stream",
     "text": [
      "    python\n"
     ]
    }
   ],
   "source": [
    "print(fav_lang.rstrip())"
   ]
  },
  {
   "cell_type": "code",
   "execution_count": 31,
   "id": "fa8321cb",
   "metadata": {},
   "outputs": [
    {
     "data": {
      "text/plain": [
       "30"
      ]
     },
     "execution_count": 31,
     "metadata": {},
     "output_type": "execute_result"
    }
   ],
   "source": [
    "10*3"
   ]
  },
  {
   "cell_type": "code",
   "execution_count": 32,
   "id": "b2efacee",
   "metadata": {},
   "outputs": [
    {
     "data": {
      "text/plain": [
       "66"
      ]
     },
     "execution_count": 32,
     "metadata": {},
     "output_type": "execute_result"
    }
   ],
   "source": [
    "66%77"
   ]
  },
  {
   "cell_type": "code",
   "execution_count": 33,
   "id": "70bf41b2",
   "metadata": {},
   "outputs": [],
   "source": [
    "y=1.2+43"
   ]
  },
  {
   "cell_type": "code",
   "execution_count": 34,
   "id": "f8cc7afd",
   "metadata": {},
   "outputs": [
    {
     "name": "stdout",
     "output_type": "stream",
     "text": [
      "44.2\n"
     ]
    }
   ],
   "source": [
    "print(y)"
   ]
  },
  {
   "cell_type": "code",
   "execution_count": 35,
   "id": "0b2de16d",
   "metadata": {},
   "outputs": [],
   "source": [
    "x=43+78"
   ]
  },
  {
   "cell_type": "code",
   "execution_count": 36,
   "id": "b251568e",
   "metadata": {},
   "outputs": [
    {
     "name": "stdout",
     "output_type": "stream",
     "text": [
      "121\n"
     ]
    }
   ],
   "source": [
    "print(x)"
   ]
  },
  {
   "cell_type": "code",
   "execution_count": 38,
   "id": "5d0713c4",
   "metadata": {},
   "outputs": [],
   "source": [
    "x,y,z=32,98,45"
   ]
  },
  {
   "cell_type": "code",
   "execution_count": 39,
   "id": "338161ea",
   "metadata": {},
   "outputs": [
    {
     "name": "stdout",
     "output_type": "stream",
     "text": [
      "32 98 45\n"
     ]
    }
   ],
   "source": [
    "print(x,y,z)"
   ]
  },
  {
   "cell_type": "code",
   "execution_count": 40,
   "id": "8ee25635",
   "metadata": {},
   "outputs": [],
   "source": [
    "x=34\n",
    "y=76"
   ]
  },
  {
   "cell_type": "code",
   "execution_count": 41,
   "id": "e539c2e4",
   "metadata": {},
   "outputs": [
    {
     "name": "stdout",
     "output_type": "stream",
     "text": [
      "-42\n"
     ]
    }
   ],
   "source": [
    "print(x-y)"
   ]
  },
  {
   "cell_type": "code",
   "execution_count": 42,
   "id": "360dee2c",
   "metadata": {},
   "outputs": [
    {
     "name": "stdout",
     "output_type": "stream",
     "text": [
      "2584\n"
     ]
    }
   ],
   "source": [
    "print(x*y)"
   ]
  },
  {
   "cell_type": "code",
   "execution_count": 43,
   "id": "0618c71e",
   "metadata": {},
   "outputs": [
    {
     "name": "stdout",
     "output_type": "stream",
     "text": [
      "34\n"
     ]
    }
   ],
   "source": [
    "print(x%y)"
   ]
  },
  {
   "cell_type": "code",
   "execution_count": 44,
   "id": "df0aa24c",
   "metadata": {},
   "outputs": [],
   "source": [
    "students=[\"nazz\",\"chotu\",\"asif\",\"shravan\",\"pravalika\",\"supraja\"]"
   ]
  },
  {
   "cell_type": "code",
   "execution_count": 45,
   "id": "86048eef",
   "metadata": {},
   "outputs": [
    {
     "name": "stdout",
     "output_type": "stream",
     "text": [
      "['nazz', 'chotu', 'asif', 'shravan', 'pravalika', 'supraja']\n"
     ]
    }
   ],
   "source": [
    "print(students)"
   ]
  },
  {
   "cell_type": "code",
   "execution_count": 46,
   "id": "54f92652",
   "metadata": {},
   "outputs": [
    {
     "name": "stdout",
     "output_type": "stream",
     "text": [
      "pravalika\n"
     ]
    }
   ],
   "source": [
    "print(students[4])"
   ]
  },
  {
   "cell_type": "code",
   "execution_count": 48,
   "id": "402cb847",
   "metadata": {},
   "outputs": [
    {
     "name": "stdout",
     "output_type": "stream",
     "text": [
      "nazz\n"
     ]
    }
   ],
   "source": [
    "print(students[0])"
   ]
  },
  {
   "cell_type": "code",
   "execution_count": 50,
   "id": "969ac08c",
   "metadata": {},
   "outputs": [
    {
     "name": "stdout",
     "output_type": "stream",
     "text": [
      "shravan\n"
     ]
    }
   ],
   "source": [
    "print(students[3].lower())"
   ]
  },
  {
   "cell_type": "code",
   "execution_count": 51,
   "id": "e045d84c",
   "metadata": {},
   "outputs": [
    {
     "name": "stdout",
     "output_type": "stream",
     "text": [
      "shravan asif\n"
     ]
    }
   ],
   "source": [
    "print(students[3],students[2])"
   ]
  },
  {
   "cell_type": "code",
   "execution_count": 52,
   "id": "a790244f",
   "metadata": {},
   "outputs": [],
   "source": [
    "students.append('jaanu')"
   ]
  },
  {
   "cell_type": "code",
   "execution_count": 53,
   "id": "6df72cc5",
   "metadata": {},
   "outputs": [
    {
     "name": "stdout",
     "output_type": "stream",
     "text": [
      "['nazz', 'chotu', 'asif', 'shravan', 'pravalika', 'supraja', 'jaanu']\n"
     ]
    }
   ],
   "source": [
    "print(students)"
   ]
  },
  {
   "cell_type": "code",
   "execution_count": 54,
   "id": "d6c7284c",
   "metadata": {},
   "outputs": [],
   "source": [
    "students.insert(3,\"azeeza\")"
   ]
  },
  {
   "cell_type": "code",
   "execution_count": 55,
   "id": "3cf08138",
   "metadata": {},
   "outputs": [
    {
     "name": "stdout",
     "output_type": "stream",
     "text": [
      "['nazz', 'chotu', 'asif', 'azeeza', 'shravan', 'pravalika', 'supraja', 'jaanu']\n"
     ]
    }
   ],
   "source": [
    "print(students)"
   ]
  },
  {
   "cell_type": "code",
   "execution_count": 58,
   "id": "bafb64db",
   "metadata": {},
   "outputs": [],
   "source": [
    "students.insert(2,\"harish\")"
   ]
  },
  {
   "cell_type": "code",
   "execution_count": 59,
   "id": "5f7ec030",
   "metadata": {},
   "outputs": [
    {
     "name": "stdout",
     "output_type": "stream",
     "text": [
      "['nazz', 'chotu', 'harish', 'asif', 'azeeza', 'shravan', 'pravalika', 'supraja', 'jaanu']\n"
     ]
    }
   ],
   "source": [
    "print(students)"
   ]
  },
  {
   "cell_type": "code",
   "execution_count": 61,
   "id": "ea0ba934",
   "metadata": {},
   "outputs": [],
   "source": [
    "students[0]=\"nazreen\""
   ]
  },
  {
   "cell_type": "code",
   "execution_count": 62,
   "id": "00c94b3d",
   "metadata": {},
   "outputs": [
    {
     "name": "stdout",
     "output_type": "stream",
     "text": [
      "['nazreen', 'chotu', 'harish', 'asif', 'azeeza', 'shravan', 'pravalika', 'supraja', 'jaanu']\n"
     ]
    }
   ],
   "source": [
    "print(students)"
   ]
  },
  {
   "cell_type": "code",
   "execution_count": 63,
   "id": "a7e5604a",
   "metadata": {},
   "outputs": [],
   "source": [
    "students[4]='sunny'"
   ]
  },
  {
   "cell_type": "code",
   "execution_count": 64,
   "id": "9e9867f6",
   "metadata": {},
   "outputs": [
    {
     "name": "stdout",
     "output_type": "stream",
     "text": [
      "['nazreen', 'chotu', 'harish', 'asif', 'sunny', 'shravan', 'pravalika', 'supraja', 'jaanu']\n"
     ]
    }
   ],
   "source": [
    "print(students)"
   ]
  },
  {
   "cell_type": "code",
   "execution_count": 65,
   "id": "55e1062c",
   "metadata": {},
   "outputs": [
    {
     "data": {
      "text/plain": [
       "'asif'"
      ]
     },
     "execution_count": 65,
     "metadata": {},
     "output_type": "execute_result"
    }
   ],
   "source": [
    "students.pop(3)"
   ]
  },
  {
   "cell_type": "code",
   "execution_count": 69,
   "id": "d9d79477",
   "metadata": {},
   "outputs": [
    {
     "data": {
      "text/plain": [
       "'harish'"
      ]
     },
     "execution_count": 69,
     "metadata": {},
     "output_type": "execute_result"
    }
   ],
   "source": [
    "students.pop(2)"
   ]
  },
  {
   "cell_type": "code",
   "execution_count": 70,
   "id": "b7dfec33",
   "metadata": {},
   "outputs": [
    {
     "name": "stdout",
     "output_type": "stream",
     "text": [
      "['nazreen', 'chotu', 'sunny', 'shravan', 'pravalika', 'supraja', 'jaanu']\n"
     ]
    }
   ],
   "source": [
    "print(students)"
   ]
  },
  {
   "cell_type": "code",
   "execution_count": 71,
   "id": "528b458a",
   "metadata": {},
   "outputs": [
    {
     "data": {
      "text/plain": [
       "'jaanu'"
      ]
     },
     "execution_count": 71,
     "metadata": {},
     "output_type": "execute_result"
    }
   ],
   "source": [
    "students.pop()"
   ]
  },
  {
   "cell_type": "code",
   "execution_count": 72,
   "id": "6ca8931d",
   "metadata": {},
   "outputs": [
    {
     "data": {
      "text/plain": [
       "'supraja'"
      ]
     },
     "execution_count": 72,
     "metadata": {},
     "output_type": "execute_result"
    }
   ],
   "source": [
    "students.pop()"
   ]
  },
  {
   "cell_type": "code",
   "execution_count": 73,
   "id": "b7df7e4d",
   "metadata": {},
   "outputs": [
    {
     "name": "stdout",
     "output_type": "stream",
     "text": [
      "['nazreen', 'chotu', 'sunny', 'shravan', 'pravalika']\n"
     ]
    }
   ],
   "source": [
    "print(students)"
   ]
  },
  {
   "cell_type": "code",
   "execution_count": 74,
   "id": "3cb771a9",
   "metadata": {},
   "outputs": [],
   "source": [
    "students=[\"nazz\",\"chotu\",\"asif\",\"shravan\",\"pravalika\",\"supraja\"]"
   ]
  },
  {
   "cell_type": "code",
   "execution_count": 75,
   "id": "8b9ae133",
   "metadata": {},
   "outputs": [
    {
     "name": "stdout",
     "output_type": "stream",
     "text": [
      "['nazz', 'chotu', 'asif', 'shravan', 'pravalika', 'supraja']\n"
     ]
    }
   ],
   "source": [
    "print(students)"
   ]
  },
  {
   "cell_type": "code",
   "execution_count": 76,
   "id": "c0bb3fe0",
   "metadata": {},
   "outputs": [],
   "source": [
    "students.sort()"
   ]
  },
  {
   "cell_type": "code",
   "execution_count": 77,
   "id": "5dc8b503",
   "metadata": {},
   "outputs": [
    {
     "name": "stdout",
     "output_type": "stream",
     "text": [
      "['asif', 'chotu', 'nazz', 'pravalika', 'shravan', 'supraja']\n"
     ]
    }
   ],
   "source": [
    "print(students)"
   ]
  },
  {
   "cell_type": "code",
   "execution_count": 78,
   "id": "d84624d1",
   "metadata": {},
   "outputs": [],
   "source": [
    "students.append(\"jaya\")"
   ]
  },
  {
   "cell_type": "code",
   "execution_count": 80,
   "id": "67701b6e",
   "metadata": {},
   "outputs": [],
   "source": [
    "students.insert(6,\"mashu\")"
   ]
  },
  {
   "cell_type": "code",
   "execution_count": 81,
   "id": "5ff7c37c",
   "metadata": {},
   "outputs": [],
   "source": [
    "students.append(\"hero\")"
   ]
  },
  {
   "cell_type": "code",
   "execution_count": 82,
   "id": "c3c6bf0a",
   "metadata": {},
   "outputs": [
    {
     "name": "stdout",
     "output_type": "stream",
     "text": [
      "['asif', 'chotu', 'nazz', 'pravalika', 'shravan', 'supraja', 'mashu', 'jaya', 'hero']\n"
     ]
    }
   ],
   "source": [
    "print(students) "
   ]
  },
  {
   "cell_type": "code",
   "execution_count": 83,
   "id": "8f8ac397",
   "metadata": {},
   "outputs": [],
   "source": [
    "students.sort()"
   ]
  },
  {
   "cell_type": "code",
   "execution_count": 84,
   "id": "94be0584",
   "metadata": {},
   "outputs": [
    {
     "name": "stdout",
     "output_type": "stream",
     "text": [
      "['asif', 'chotu', 'hero', 'jaya', 'mashu', 'nazz', 'pravalika', 'shravan', 'supraja']\n"
     ]
    }
   ],
   "source": [
    "print(students)"
   ]
  },
  {
   "cell_type": "code",
   "execution_count": 85,
   "id": "6eb040b2",
   "metadata": {},
   "outputs": [],
   "source": [
    "students.reverse()"
   ]
  },
  {
   "cell_type": "code",
   "execution_count": 86,
   "id": "7bfa8d05",
   "metadata": {},
   "outputs": [
    {
     "name": "stdout",
     "output_type": "stream",
     "text": [
      "['supraja', 'shravan', 'pravalika', 'nazz', 'mashu', 'jaya', 'hero', 'chotu', 'asif']\n"
     ]
    }
   ],
   "source": [
    "print(students)"
   ]
  },
  {
   "cell_type": "code",
   "execution_count": 88,
   "id": "70de2a40",
   "metadata": {},
   "outputs": [],
   "source": [
    "my_food=[\"biryani\",\"icecream\",\"pizza\",\"mandi\"]"
   ]
  },
  {
   "cell_type": "code",
   "execution_count": 89,
   "id": "1b804e1f",
   "metadata": {},
   "outputs": [
    {
     "name": "stdout",
     "output_type": "stream",
     "text": [
      "['biryani', 'icecream', 'pizza', 'mandi']\n"
     ]
    }
   ],
   "source": [
    "print(my_food)"
   ]
  },
  {
   "cell_type": "code",
   "execution_count": 90,
   "id": "32a137b1",
   "metadata": {},
   "outputs": [],
   "source": [
    "friend_food=my_food[:]"
   ]
  },
  {
   "cell_type": "code",
   "execution_count": 91,
   "id": "a1b1b66a",
   "metadata": {},
   "outputs": [
    {
     "name": "stdout",
     "output_type": "stream",
     "text": [
      "['biryani', 'icecream', 'pizza', 'mandi']\n"
     ]
    }
   ],
   "source": [
    "print(friend_food)"
   ]
  },
  {
   "cell_type": "code",
   "execution_count": 94,
   "id": "e7180793",
   "metadata": {},
   "outputs": [
    {
     "data": {
      "text/plain": [
       "'mandi'"
      ]
     },
     "execution_count": 94,
     "metadata": {},
     "output_type": "execute_result"
    }
   ],
   "source": [
    "my_food.pop(3)"
   ]
  },
  {
   "cell_type": "code",
   "execution_count": 96,
   "id": "64a7cfc7",
   "metadata": {},
   "outputs": [
    {
     "name": "stdout",
     "output_type": "stream",
     "text": [
      "['biryani', 'icecream', 'pizza']\n"
     ]
    }
   ],
   "source": [
    "print(my_food)"
   ]
  },
  {
   "cell_type": "code",
   "execution_count": 97,
   "id": "51f72172",
   "metadata": {},
   "outputs": [
    {
     "name": "stdout",
     "output_type": "stream",
     "text": [
      "['biryani', 'icecream', 'pizza', 'mandi']\n"
     ]
    }
   ],
   "source": [
    "print(friend_food)"
   ]
  },
  {
   "cell_type": "code",
   "execution_count": 98,
   "id": "e6af8055",
   "metadata": {},
   "outputs": [
    {
     "name": "stdout",
     "output_type": "stream",
     "text": [
      "['supraja', 'shravan', 'pravalika', 'nazz', 'mashu', 'jaya', 'hero', 'chotu', 'asif']\n"
     ]
    }
   ],
   "source": [
    "print(students)"
   ]
  },
  {
   "cell_type": "code",
   "execution_count": 99,
   "id": "f52f1706",
   "metadata": {},
   "outputs": [
    {
     "name": "stdout",
     "output_type": "stream",
     "text": [
      "chotu\n"
     ]
    }
   ],
   "source": [
    "print(students[-2])"
   ]
  },
  {
   "cell_type": "code",
   "execution_count": 100,
   "id": "0959baab",
   "metadata": {},
   "outputs": [
    {
     "name": "stdout",
     "output_type": "stream",
     "text": [
      "jaya\n"
     ]
    }
   ],
   "source": [
    "print(students[-4])"
   ]
  },
  {
   "cell_type": "code",
   "execution_count": 102,
   "id": "c5d2174f",
   "metadata": {},
   "outputs": [
    {
     "name": "stdout",
     "output_type": "stream",
     "text": [
      "Pravalika\n"
     ]
    }
   ],
   "source": [
    "print(students[-7].title())"
   ]
  },
  {
   "cell_type": "code",
   "execution_count": 103,
   "id": "36ead6ed",
   "metadata": {},
   "outputs": [
    {
     "name": "stdout",
     "output_type": "stream",
     "text": [
      "['supraja', 'shravan', 'pravalika', 'nazz', 'mashu', 'jaya', 'hero', 'chotu', 'asif']\n"
     ]
    }
   ],
   "source": [
    "print(students)"
   ]
  },
  {
   "cell_type": "code",
   "execution_count": 104,
   "id": "c37ac214",
   "metadata": {},
   "outputs": [
    {
     "name": "stdout",
     "output_type": "stream",
     "text": [
      "['supraja', 'shravan']\n"
     ]
    }
   ],
   "source": [
    "print(students[0:2])"
   ]
  },
  {
   "cell_type": "code",
   "execution_count": 105,
   "id": "9ea501c8",
   "metadata": {},
   "outputs": [
    {
     "name": "stdout",
     "output_type": "stream",
     "text": [
      "['mashu', 'jaya', 'hero', 'chotu', 'asif']\n"
     ]
    }
   ],
   "source": [
    "print(students[4:9])"
   ]
  },
  {
   "cell_type": "code",
   "execution_count": 107,
   "id": "681c7260",
   "metadata": {},
   "outputs": [
    {
     "name": "stdout",
     "output_type": "stream",
     "text": [
      "['supraja', 'shravan', 'pravalika', 'nazz', 'mashu', 'jaya', 'hero']\n"
     ]
    }
   ],
   "source": [
    "print(students[0:7])"
   ]
  },
  {
   "cell_type": "code",
   "execution_count": 109,
   "id": "6db8f39e",
   "metadata": {},
   "outputs": [
    {
     "name": "stdout",
     "output_type": "stream",
     "text": [
      "['supraja', 'shravan', 'pravalika', 'nazz', 'mashu', 'jaya', 'hero', 'chotu', 'asif']\n"
     ]
    }
   ],
   "source": [
    "print(students)"
   ]
  },
  {
   "cell_type": "code",
   "execution_count": 116,
   "id": "2ec94a1d",
   "metadata": {},
   "outputs": [],
   "source": [
    "city=['delhi','hyd','wgl','vij','krnl','chennai']"
   ]
  },
  {
   "cell_type": "code",
   "execution_count": 117,
   "id": "199dcd74",
   "metadata": {},
   "outputs": [
    {
     "name": "stdout",
     "output_type": "stream",
     "text": [
      "['delhi', 'hyd', 'wgl', 'vij', 'krnl', 'chennai']\n"
     ]
    }
   ],
   "source": [
    "print(city)"
   ]
  },
  {
   "cell_type": "code",
   "execution_count": 113,
   "id": "eb986301",
   "metadata": {},
   "outputs": [
    {
     "name": "stdout",
     "output_type": "stream",
     "text": [
      "delhi\n",
      "hyd\n",
      "wgl\n",
      "vij\n",
      "krnl\n",
      "chennai\n"
     ]
    }
   ],
   "source": [
    "\n",
    "for w in city:\n",
    "    print(w)"
   ]
  },
  {
   "cell_type": "code",
   "execution_count": 118,
   "id": "251d1c1a",
   "metadata": {},
   "outputs": [
    {
     "data": {
      "text/plain": [
       "list"
      ]
     },
     "execution_count": 118,
     "metadata": {},
     "output_type": "execute_result"
    }
   ],
   "source": [
    "type(students)"
   ]
  },
  {
   "cell_type": "code",
   "execution_count": 119,
   "id": "fde92c19",
   "metadata": {},
   "outputs": [
    {
     "data": {
      "text/plain": [
       "str"
      ]
     },
     "execution_count": 119,
     "metadata": {},
     "output_type": "execute_result"
    }
   ],
   "source": [
    "type(student)"
   ]
  },
  {
   "cell_type": "code",
   "execution_count": 122,
   "id": "ae9c0236",
   "metadata": {},
   "outputs": [],
   "source": [
    "dimensions=(33,55,66)"
   ]
  },
  {
   "cell_type": "code",
   "execution_count": 123,
   "id": "de8afdf3",
   "metadata": {},
   "outputs": [
    {
     "name": "stdout",
     "output_type": "stream",
     "text": [
      "(33, 55, 66)\n"
     ]
    }
   ],
   "source": [
    "print(dimensions)"
   ]
  },
  {
   "cell_type": "code",
   "execution_count": 124,
   "id": "37d150d2",
   "metadata": {},
   "outputs": [
    {
     "data": {
      "text/plain": [
       "tuple"
      ]
     },
     "execution_count": 124,
     "metadata": {},
     "output_type": "execute_result"
    }
   ],
   "source": [
    "type(dimensions)"
   ]
  },
  {
   "cell_type": "code",
   "execution_count": 127,
   "id": "35594708",
   "metadata": {},
   "outputs": [],
   "source": [
    "dimensions=(33,55,66,100)"
   ]
  },
  {
   "cell_type": "code",
   "execution_count": 128,
   "id": "681205df",
   "metadata": {},
   "outputs": [
    {
     "name": "stdout",
     "output_type": "stream",
     "text": [
      "(33, 55, 66, 100)\n"
     ]
    }
   ],
   "source": [
    "print(dimensions)"
   ]
  },
  {
   "cell_type": "code",
   "execution_count": 129,
   "id": "be6fdccf",
   "metadata": {},
   "outputs": [
    {
     "name": "stdout",
     "output_type": "stream",
     "text": [
      "100\n"
     ]
    }
   ],
   "source": [
    "print(dimensions[3])"
   ]
  },
  {
   "cell_type": "code",
   "execution_count": 130,
   "id": "da3f04f7",
   "metadata": {},
   "outputs": [
    {
     "name": "stdout",
     "output_type": "stream",
     "text": [
      "66\n"
     ]
    }
   ],
   "source": [
    "print(dimensiond[2])"
   ]
  },
  {
   "cell_type": "code",
   "execution_count": 131,
   "id": "2b25ee92",
   "metadata": {},
   "outputs": [],
   "source": [
    "a=(22,33,11,88,99,76)\n",
    "b=(22,44,56,87,98,987)"
   ]
  },
  {
   "cell_type": "code",
   "execution_count": 132,
   "id": "c485a209",
   "metadata": {},
   "outputs": [
    {
     "name": "stdout",
     "output_type": "stream",
     "text": [
      "(22, 33, 11, 88, 99, 76, 22, 44, 56, 87, 98, 987)\n"
     ]
    }
   ],
   "source": [
    "print(a+b)"
   ]
  },
  {
   "cell_type": "code",
   "execution_count": 133,
   "id": "bfe3ba23",
   "metadata": {},
   "outputs": [],
   "source": [
    "c=(a+b)"
   ]
  },
  {
   "cell_type": "code",
   "execution_count": 134,
   "id": "e59acd41",
   "metadata": {},
   "outputs": [
    {
     "name": "stdout",
     "output_type": "stream",
     "text": [
      "(22, 33, 11, 88, 99, 76, 22, 44, 56, 87, 98, 987)\n"
     ]
    }
   ],
   "source": [
    "print(c)"
   ]
  },
  {
   "cell_type": "code",
   "execution_count": 139,
   "id": "0d2248f4",
   "metadata": {},
   "outputs": [],
   "source": [
    "z=(66.88)"
   ]
  },
  {
   "cell_type": "code",
   "execution_count": 137,
   "id": "801b34f0",
   "metadata": {},
   "outputs": [],
   "source": [
    "y=()"
   ]
  },
  {
   "cell_type": "code",
   "execution_count": 138,
   "id": "06847df2",
   "metadata": {},
   "outputs": [
    {
     "name": "stdout",
     "output_type": "stream",
     "text": [
      "()\n"
     ]
    }
   ],
   "source": [
    "print(y)"
   ]
  },
  {
   "cell_type": "code",
   "execution_count": 140,
   "id": "51f3573a",
   "metadata": {},
   "outputs": [
    {
     "name": "stdout",
     "output_type": "stream",
     "text": [
      "66.88\n"
     ]
    }
   ],
   "source": [
    "print(z)"
   ]
  },
  {
   "cell_type": "code",
   "execution_count": 142,
   "id": "d39486ae",
   "metadata": {},
   "outputs": [
    {
     "data": {
      "text/plain": [
       "tuple"
      ]
     },
     "execution_count": 142,
     "metadata": {},
     "output_type": "execute_result"
    }
   ],
   "source": [
    "type(a)"
   ]
  },
  {
   "cell_type": "code",
   "execution_count": 143,
   "id": "53144c64",
   "metadata": {},
   "outputs": [
    {
     "data": {
      "text/plain": [
       "tuple"
      ]
     },
     "execution_count": 143,
     "metadata": {},
     "output_type": "execute_result"
    }
   ],
   "source": [
    "type(c)"
   ]
  },
  {
   "cell_type": "code",
   "execution_count": 144,
   "id": "636b5d8e",
   "metadata": {},
   "outputs": [],
   "source": [
    "c=(5,)"
   ]
  },
  {
   "cell_type": "code",
   "execution_count": 145,
   "id": "2a14aaf2",
   "metadata": {},
   "outputs": [
    {
     "name": "stdout",
     "output_type": "stream",
     "text": [
      "(5,)\n"
     ]
    }
   ],
   "source": [
    "print(c)"
   ]
  },
  {
   "cell_type": "code",
   "execution_count": 146,
   "id": "c0ff2701",
   "metadata": {},
   "outputs": [
    {
     "data": {
      "text/plain": [
       "tuple"
      ]
     },
     "execution_count": 146,
     "metadata": {},
     "output_type": "execute_result"
    }
   ],
   "source": [
    "type(c)"
   ]
  },
  {
   "cell_type": "code",
   "execution_count": 147,
   "id": "45338906",
   "metadata": {},
   "outputs": [],
   "source": [
    "combo=(33,98.8,\"hii\",'nazreen')"
   ]
  },
  {
   "cell_type": "code",
   "execution_count": 148,
   "id": "060f0966",
   "metadata": {},
   "outputs": [
    {
     "name": "stdout",
     "output_type": "stream",
     "text": [
      "(33, 98.8, 'hii', 'nazreen')\n"
     ]
    }
   ],
   "source": [
    "print(combo)"
   ]
  },
  {
   "cell_type": "code",
   "execution_count": 149,
   "id": "75dc55f5",
   "metadata": {},
   "outputs": [
    {
     "data": {
      "text/plain": [
       "tuple"
      ]
     },
     "execution_count": 149,
     "metadata": {},
     "output_type": "execute_result"
    }
   ],
   "source": [
    "type(combo)"
   ]
  },
  {
   "cell_type": "code",
   "execution_count": 150,
   "id": "36032900",
   "metadata": {},
   "outputs": [],
   "source": [
    "del dimensions"
   ]
  },
  {
   "cell_type": "code",
   "execution_count": 151,
   "id": "f3e56194",
   "metadata": {},
   "outputs": [
    {
     "ename": "NameError",
     "evalue": "name 'dimensions' is not defined",
     "output_type": "error",
     "traceback": [
      "\u001b[1;31m---------------------------------------------------------------------------\u001b[0m",
      "\u001b[1;31mNameError\u001b[0m                                 Traceback (most recent call last)",
      "\u001b[1;32m<ipython-input-151-8d01de2d54df>\u001b[0m in \u001b[0;36m<module>\u001b[1;34m\u001b[0m\n\u001b[1;32m----> 1\u001b[1;33m \u001b[0mprint\u001b[0m\u001b[1;33m(\u001b[0m\u001b[0mdimensions\u001b[0m\u001b[1;33m)\u001b[0m\u001b[1;33m\u001b[0m\u001b[1;33m\u001b[0m\u001b[0m\n\u001b[0m",
      "\u001b[1;31mNameError\u001b[0m: name 'dimensions' is not defined"
     ]
    }
   ],
   "source": [
    "print(dimensions)"
   ]
  },
  {
   "cell_type": "code",
   "execution_count": 152,
   "id": "991b4e99",
   "metadata": {},
   "outputs": [
    {
     "name": "stdout",
     "output_type": "stream",
     "text": [
      "(5,)\n"
     ]
    }
   ],
   "source": [
    "print(c)"
   ]
  },
  {
   "cell_type": "code",
   "execution_count": 153,
   "id": "758944a1",
   "metadata": {},
   "outputs": [],
   "source": [
    "d=(34,76,89,65,78,34,5,7,8,32,87)"
   ]
  },
  {
   "cell_type": "code",
   "execution_count": 154,
   "id": "a71073fd",
   "metadata": {},
   "outputs": [
    {
     "name": "stdout",
     "output_type": "stream",
     "text": [
      "(34, 76, 89, 65, 78, 34, 5, 7, 8, 32, 87)\n"
     ]
    }
   ],
   "source": [
    "print(d)"
   ]
  },
  {
   "cell_type": "code",
   "execution_count": 156,
   "id": "a964eb15",
   "metadata": {},
   "outputs": [
    {
     "data": {
      "text/plain": [
       "(34, 76, 89, 65, 78, 34, 5)"
      ]
     },
     "execution_count": 156,
     "metadata": {},
     "output_type": "execute_result"
    }
   ],
   "source": [
    "d[0:7]"
   ]
  },
  {
   "cell_type": "code",
   "execution_count": 157,
   "id": "7005cc89",
   "metadata": {},
   "outputs": [
    {
     "data": {
      "text/plain": [
       "(76, 89, 65)"
      ]
     },
     "execution_count": 157,
     "metadata": {},
     "output_type": "execute_result"
    }
   ],
   "source": [
    "d[1:4]"
   ]
  },
  {
   "cell_type": "code",
   "execution_count": 158,
   "id": "83ce4f36",
   "metadata": {},
   "outputs": [
    {
     "name": "stdout",
     "output_type": "stream",
     "text": [
      "32\n"
     ]
    }
   ],
   "source": [
    "print(d[-2])"
   ]
  },
  {
   "cell_type": "code",
   "execution_count": 160,
   "id": "4d4ae6c3",
   "metadata": {},
   "outputs": [],
   "source": [
    "message=f\"keep it up good work ,{students[2].upper()}\""
   ]
  },
  {
   "cell_type": "code",
   "execution_count": 161,
   "id": "da7daf3c",
   "metadata": {},
   "outputs": [
    {
     "name": "stdout",
     "output_type": "stream",
     "text": [
      "keep it up good work ,PRAVALIKA\n"
     ]
    }
   ],
   "source": [
    "print(message)"
   ]
  },
  {
   "cell_type": "code",
   "execution_count": 162,
   "id": "fdbd8f0a",
   "metadata": {},
   "outputs": [],
   "source": [
    "message=f\"keep it up good work ,{students[0].title()}\""
   ]
  },
  {
   "cell_type": "code",
   "execution_count": 163,
   "id": "7ab403b1",
   "metadata": {},
   "outputs": [],
   "source": [
    "message=f\" hello you got marks are,{d[2]}\""
   ]
  },
  {
   "cell_type": "code",
   "execution_count": 164,
   "id": "8c894e76",
   "metadata": {},
   "outputs": [
    {
     "name": "stdout",
     "output_type": "stream",
     "text": [
      " hello you got marks are,89\n"
     ]
    }
   ],
   "source": [
    "print(message)"
   ]
  },
  {
   "cell_type": "code",
   "execution_count": 165,
   "id": "7c043bbd",
   "metadata": {},
   "outputs": [
    {
     "name": "stdout",
     "output_type": "stream",
     "text": [
      "['supraja', 'shravan', 'pravalika', 'nazz', 'mashu', 'jaya', 'hero', 'chotu', 'asif']\n"
     ]
    }
   ],
   "source": [
    "print(students)"
   ]
  },
  {
   "cell_type": "code",
   "execution_count": 168,
   "id": "62d35817",
   "metadata": {},
   "outputs": [],
   "source": [
    "msg=f\" your working well keep like thiz {students[3].title()}\""
   ]
  },
  {
   "cell_type": "code",
   "execution_count": 169,
   "id": "4d02ed41",
   "metadata": {},
   "outputs": [
    {
     "name": "stdout",
     "output_type": "stream",
     "text": [
      " your working well keep like thiz Nazz\n"
     ]
    }
   ],
   "source": [
    "print(msg)"
   ]
  },
  {
   "cell_type": "code",
   "execution_count": 170,
   "id": "937f1c4f",
   "metadata": {},
   "outputs": [
    {
     "name": "stdout",
     "output_type": "stream",
     "text": [
      "33\n"
     ]
    }
   ],
   "source": [
    "num=input()"
   ]
  },
  {
   "cell_type": "code",
   "execution_count": 171,
   "id": "1a105fec",
   "metadata": {},
   "outputs": [
    {
     "data": {
      "text/plain": [
       "str"
      ]
     },
     "execution_count": 171,
     "metadata": {},
     "output_type": "execute_result"
    }
   ],
   "source": [
    "type(num)"
   ]
  },
  {
   "cell_type": "code",
   "execution_count": 172,
   "id": "fa70283a",
   "metadata": {},
   "outputs": [
    {
     "name": "stdout",
     "output_type": "stream",
     "text": [
      "nazreen\n"
     ]
    }
   ],
   "source": [
    "name=input()"
   ]
  },
  {
   "cell_type": "code",
   "execution_count": 173,
   "id": "d65e4cb6",
   "metadata": {},
   "outputs": [
    {
     "data": {
      "text/plain": [
       "str"
      ]
     },
     "execution_count": 173,
     "metadata": {},
     "output_type": "execute_result"
    }
   ],
   "source": [
    "type(name)"
   ]
  },
  {
   "cell_type": "code",
   "execution_count": 174,
   "id": "d2b5c144",
   "metadata": {},
   "outputs": [
    {
     "name": "stdout",
     "output_type": "stream",
     "text": [
      "tell me something about urselfam nazreen am from warangal\n"
     ]
    }
   ],
   "source": [
    "sms=input('tell me something about urself')"
   ]
  },
  {
   "cell_type": "code",
   "execution_count": 175,
   "id": "26721afe",
   "metadata": {},
   "outputs": [
    {
     "name": "stdout",
     "output_type": "stream",
     "text": [
      "am nazreen am from warangal\n"
     ]
    }
   ],
   "source": [
    "print(sms)"
   ]
  },
  {
   "cell_type": "code",
   "execution_count": 176,
   "id": "e798439e",
   "metadata": {},
   "outputs": [
    {
     "data": {
      "text/plain": [
       "str"
      ]
     },
     "execution_count": 176,
     "metadata": {},
     "output_type": "execute_result"
    }
   ],
   "source": [
    "type(sms)"
   ]
  },
  {
   "cell_type": "code",
   "execution_count": 179,
   "id": "0e40ad3a",
   "metadata": {},
   "outputs": [
    {
     "name": "stdout",
     "output_type": "stream",
     "text": [
      "please enter ur namenazz\n",
      "\n",
      " welcome back good to see u again on dmart,Nazz\n"
     ]
    }
   ],
   "source": [
    "name=input('please enter ur name')\n",
    "print(f\"\\n welcome back good to see u again on dmart,{name.title()}\")"
   ]
  },
  {
   "cell_type": "code",
   "execution_count": 180,
   "id": "9efd2233",
   "metadata": {},
   "outputs": [
    {
     "name": "stdout",
     "output_type": "stream",
     "text": [
      "nazz\n"
     ]
    }
   ],
   "source": [
    "print(name)"
   ]
  },
  {
   "cell_type": "code",
   "execution_count": 181,
   "id": "07c155a3",
   "metadata": {},
   "outputs": [
    {
     "data": {
      "text/plain": [
       "str"
      ]
     },
     "execution_count": 181,
     "metadata": {},
     "output_type": "execute_result"
    }
   ],
   "source": [
    "type(name)"
   ]
  },
  {
   "cell_type": "code",
   "execution_count": 184,
   "id": "f3df928f",
   "metadata": {},
   "outputs": [
    {
     "name": "stdout",
     "output_type": "stream",
     "text": [
      "33\n",
      "0\n",
      "1\n",
      "4\n",
      "9\n",
      "16\n",
      "25\n",
      "36\n",
      "49\n",
      "64\n",
      "81\n",
      "100\n",
      "121\n",
      "144\n",
      "169\n",
      "196\n",
      "225\n",
      "256\n",
      "289\n",
      "324\n",
      "361\n",
      "400\n",
      "441\n",
      "484\n",
      "529\n",
      "576\n",
      "625\n",
      "676\n",
      "729\n",
      "784\n",
      "841\n",
      "900\n",
      "961\n",
      "1024\n"
     ]
    }
   ],
   "source": [
    "n=int(input())\n",
    "for i in range(0,n):\n",
    "    print(i*i)\n",
    "    \n",
    "    \n"
   ]
  },
  {
   "cell_type": "code",
   "execution_count": 199,
   "id": "a998cce9",
   "metadata": {},
   "outputs": [],
   "source": [
    "class example:\n",
    "    eyes='blue'\n",
    "    age=33\n",
    "    name='chotu'\n",
    "    def this(self):\n",
    "        print('he is my cousin')\n",
    "    def show(self):\n",
    "        print('he is doing hism pg')\n"
   ]
  },
  {
   "cell_type": "code",
   "execution_count": 200,
   "id": "f717ba2a",
   "metadata": {},
   "outputs": [],
   "source": [
    "ex=example()"
   ]
  },
  {
   "cell_type": "code",
   "execution_count": 189,
   "id": "315ae92b",
   "metadata": {},
   "outputs": [
    {
     "data": {
      "text/plain": [
       "'blue'"
      ]
     },
     "execution_count": 189,
     "metadata": {},
     "output_type": "execute_result"
    }
   ],
   "source": [
    "ex.eyes"
   ]
  },
  {
   "cell_type": "code",
   "execution_count": 190,
   "id": "8763f207",
   "metadata": {},
   "outputs": [
    {
     "data": {
      "text/plain": [
       "33"
      ]
     },
     "execution_count": 190,
     "metadata": {},
     "output_type": "execute_result"
    }
   ],
   "source": [
    "ex.age"
   ]
  },
  {
   "cell_type": "code",
   "execution_count": 191,
   "id": "809d83ab",
   "metadata": {},
   "outputs": [
    {
     "data": {
      "text/plain": [
       "'chotu'"
      ]
     },
     "execution_count": 191,
     "metadata": {},
     "output_type": "execute_result"
    }
   ],
   "source": [
    "ex.name"
   ]
  },
  {
   "cell_type": "code",
   "execution_count": 201,
   "id": "b443e7ed",
   "metadata": {},
   "outputs": [
    {
     "name": "stdout",
     "output_type": "stream",
     "text": [
      "he is doing hism pg\n"
     ]
    }
   ],
   "source": [
    "ex.show()"
   ]
  },
  {
   "cell_type": "code",
   "execution_count": 202,
   "id": "3f5b9fc8",
   "metadata": {},
   "outputs": [
    {
     "name": "stdout",
     "output_type": "stream",
     "text": [
      "he is my cousin\n"
     ]
    }
   ],
   "source": [
    "ex.this()"
   ]
  },
  {
   "cell_type": "code",
   "execution_count": 203,
   "id": "7f5e2967",
   "metadata": {},
   "outputs": [],
   "source": [
    "class mydetails:\n",
    "    name='nazz'\n",
    "    age=22\n",
    "    hobbie='reading'\n",
    "    def display(self):\n",
    "        print('i like to watch movies')\n",
    "    def show(self):\n",
    "        print('i love to eat icecreames')"
   ]
  },
  {
   "cell_type": "code",
   "execution_count": 223,
   "id": "2409fa5d",
   "metadata": {},
   "outputs": [],
   "source": [
    "nn=mydetails()"
   ]
  },
  {
   "cell_type": "code",
   "execution_count": 205,
   "id": "155cd4f9",
   "metadata": {},
   "outputs": [
    {
     "data": {
      "text/plain": [
       "'nazz'"
      ]
     },
     "execution_count": 205,
     "metadata": {},
     "output_type": "execute_result"
    }
   ],
   "source": [
    "nn.name\n"
   ]
  },
  {
   "cell_type": "code",
   "execution_count": 206,
   "id": "0e848db9",
   "metadata": {},
   "outputs": [
    {
     "data": {
      "text/plain": [
       "22"
      ]
     },
     "execution_count": 206,
     "metadata": {},
     "output_type": "execute_result"
    }
   ],
   "source": [
    "nn.age"
   ]
  },
  {
   "cell_type": "code",
   "execution_count": 207,
   "id": "1bcc2b7a",
   "metadata": {},
   "outputs": [
    {
     "data": {
      "text/plain": [
       "'reading'"
      ]
     },
     "execution_count": 207,
     "metadata": {},
     "output_type": "execute_result"
    }
   ],
   "source": [
    "nn.hobbie"
   ]
  },
  {
   "cell_type": "code",
   "execution_count": 209,
   "id": "f8534f89",
   "metadata": {},
   "outputs": [
    {
     "name": "stdout",
     "output_type": "stream",
     "text": [
      "i like to watch movies\n",
      "i love to eat icecreames\n"
     ]
    }
   ],
   "source": [
    "nn.display()\n",
    "nn.show()"
   ]
  },
  {
   "cell_type": "code",
   "execution_count": 225,
   "id": "4c46d8f9",
   "metadata": {},
   "outputs": [],
   "source": [
    "class superclass:\n",
    "    gm='nazz'\n",
    "    manager='shirisha'\n",
    "class subclass:\n",
    "    ceo='chotu'\n",
    "    pass"
   ]
  },
  {
   "cell_type": "code",
   "execution_count": 226,
   "id": "17fabc50",
   "metadata": {},
   "outputs": [],
   "source": [
    "sc=superclass()"
   ]
  },
  {
   "cell_type": "code",
   "execution_count": 227,
   "id": "80ee4f9a",
   "metadata": {},
   "outputs": [
    {
     "data": {
      "text/plain": [
       "'nazz'"
      ]
     },
     "execution_count": 227,
     "metadata": {},
     "output_type": "execute_result"
    }
   ],
   "source": [
    "sc.gm"
   ]
  },
  {
   "cell_type": "code",
   "execution_count": 213,
   "id": "69859ab4",
   "metadata": {},
   "outputs": [
    {
     "data": {
      "text/plain": [
       "'shirisha'"
      ]
     },
     "execution_count": 213,
     "metadata": {},
     "output_type": "execute_result"
    }
   ],
   "source": [
    "sc.manager"
   ]
  },
  {
   "cell_type": "code",
   "execution_count": 217,
   "id": "04bc5fc3",
   "metadata": {},
   "outputs": [],
   "source": [
    "cc=subclass()"
   ]
  },
  {
   "cell_type": "code",
   "execution_count": 218,
   "id": "e9df44b9",
   "metadata": {},
   "outputs": [
    {
     "data": {
      "text/plain": [
       "'chotu'"
      ]
     },
     "execution_count": 218,
     "metadata": {},
     "output_type": "execute_result"
    }
   ],
   "source": [
    "cc.ceo\n"
   ]
  },
  {
   "cell_type": "code",
   "execution_count": 230,
   "id": "662993cb",
   "metadata": {},
   "outputs": [],
   "source": [
    "class parent:\n",
    "    a=3\n",
    "    b=5\n",
    "    def show(self):\n",
    "        print('this is parent class')\n",
    "    def display(self):\n",
    "        print('this is parent display')\n",
    "class child(parent):\n",
    "    c=45\n",
    "    d=87\n",
    "    def show1(self):\n",
    "        print('this is chiled class')"
   ]
  },
  {
   "cell_type": "code",
   "execution_count": 231,
   "id": "609fe4f4",
   "metadata": {},
   "outputs": [],
   "source": [
    "par=parent()"
   ]
  },
  {
   "cell_type": "code",
   "execution_count": 232,
   "id": "a6f1f727",
   "metadata": {},
   "outputs": [
    {
     "data": {
      "text/plain": [
       "3"
      ]
     },
     "execution_count": 232,
     "metadata": {},
     "output_type": "execute_result"
    }
   ],
   "source": [
    "par.a"
   ]
  },
  {
   "cell_type": "code",
   "execution_count": 233,
   "id": "82d8650a",
   "metadata": {},
   "outputs": [
    {
     "data": {
      "text/plain": [
       "5"
      ]
     },
     "execution_count": 233,
     "metadata": {},
     "output_type": "execute_result"
    }
   ],
   "source": [
    "par.b"
   ]
  },
  {
   "cell_type": "code",
   "execution_count": 234,
   "id": "6dc81066",
   "metadata": {},
   "outputs": [
    {
     "name": "stdout",
     "output_type": "stream",
     "text": [
      "this is parent class\n"
     ]
    }
   ],
   "source": [
    "par.show()"
   ]
  },
  {
   "cell_type": "code",
   "execution_count": 235,
   "id": "50d9ef81",
   "metadata": {},
   "outputs": [
    {
     "name": "stdout",
     "output_type": "stream",
     "text": [
      "this is parent display\n"
     ]
    }
   ],
   "source": [
    "par.display()"
   ]
  },
  {
   "cell_type": "code",
   "execution_count": 236,
   "id": "0b03a152",
   "metadata": {},
   "outputs": [],
   "source": [
    "chi=child()"
   ]
  },
  {
   "cell_type": "code",
   "execution_count": 237,
   "id": "254c5b01",
   "metadata": {},
   "outputs": [
    {
     "name": "stdout",
     "output_type": "stream",
     "text": [
      "this is chiled class\n"
     ]
    }
   ],
   "source": [
    "chi.show1()"
   ]
  },
  {
   "cell_type": "code",
   "execution_count": 238,
   "id": "3c73859a",
   "metadata": {},
   "outputs": [
    {
     "name": "stdout",
     "output_type": "stream",
     "text": [
      "this is parent class\n"
     ]
    }
   ],
   "source": [
    "chi.show()"
   ]
  },
  {
   "cell_type": "code",
   "execution_count": 239,
   "id": "cbdd4641",
   "metadata": {},
   "outputs": [
    {
     "name": "stdout",
     "output_type": "stream",
     "text": [
      "this is parent display\n"
     ]
    }
   ],
   "source": [
    "chi.display()"
   ]
  },
  {
   "cell_type": "code",
   "execution_count": null,
   "id": "42951e41",
   "metadata": {},
   "outputs": [],
   "source": []
  }
 ],
 "metadata": {
  "kernelspec": {
   "display_name": "Python 3",
   "language": "python",
   "name": "python3"
  },
  "language_info": {
   "codemirror_mode": {
    "name": "ipython",
    "version": 3
   },
   "file_extension": ".py",
   "mimetype": "text/x-python",
   "name": "python",
   "nbconvert_exporter": "python",
   "pygments_lexer": "ipython3",
   "version": "3.8.8"
  }
 },
 "nbformat": 4,
 "nbformat_minor": 5
}
